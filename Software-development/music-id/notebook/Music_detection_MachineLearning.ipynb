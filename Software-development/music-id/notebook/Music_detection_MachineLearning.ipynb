{
  "nbformat": 4,
  "nbformat_minor": 0,
  "metadata": {
    "kernelspec": {
      "display_name": "Python 3",
      "language": "python",
      "name": "python3"
    },
    "language_info": {
      "codemirror_mode": {
        "name": "ipython",
        "version": 3
      },
      "file_extension": ".py",
      "mimetype": "text/x-python",
      "name": "python",
      "nbconvert_exporter": "python",
      "pygments_lexer": "ipython3",
      "version": "3.5.2"
    },
    "colab": {
      "name": "Music_detection_MachineLearning.ipynb",
      "provenance": [],
      "collapsed_sections": []
    }
  },
  "cells": [
    {
      "cell_type": "code",
      "metadata": {
        "id": "WlG2hY2zmBEI",
        "colab_type": "code",
        "colab": {
          "base_uri": "https://localhost:8080/",
          "height": 167
        },
        "outputId": "0780743e-33b7-4879-c60e-385341590a02"
      },
      "source": [
        "!sudo apt-get install ffmpeg"
      ],
      "execution_count": null,
      "outputs": [
        {
          "output_type": "stream",
          "text": [
            "Reading package lists... Done\n",
            "Building dependency tree       \n",
            "Reading state information... Done\n",
            "ffmpeg is already the newest version (7:3.4.6-0ubuntu0.18.04.1).\n",
            "The following package was automatically installed and is no longer required:\n",
            "  libnvidia-common-440\n",
            "Use 'sudo apt autoremove' to remove it.\n",
            "0 upgraded, 0 newly installed, 0 to remove and 35 not upgraded.\n"
          ],
          "name": "stdout"
        }
      ]
    },
    {
      "cell_type": "code",
      "metadata": {
        "id": "97CRJvCjmEvm",
        "colab_type": "code",
        "colab": {
          "base_uri": "https://localhost:8080/",
          "height": 1000
        },
        "outputId": "ad25bb81-f1bb-44d3-81d1-478589785088"
      },
      "source": [
        "pip install inaSpeechSegmenter"
      ],
      "execution_count": null,
      "outputs": [
        {
          "output_type": "stream",
          "text": [
            "Collecting inaSpeechSegmenter\n",
            "\u001b[?25l  Downloading https://files.pythonhosted.org/packages/2e/91/ca24eedb7f7fed5849e31180f69394545531b9151b9b8a0a90196966454c/inaSpeechSegmenter-0.6.2-py3-none-any.whl (13.8MB)\n",
            "\u001b[K     |████████████████████████████████| 13.9MB 284kB/s \n",
            "\u001b[?25hCollecting sidekit\n",
            "\u001b[?25l  Downloading https://files.pythonhosted.org/packages/6b/ef/4a1c4bef022b5d467d970a33a4e8cb0140b1eb0f15a1c013f01dac46859d/SIDEKIT-1.3.6.6.tar.gz (151kB)\n",
            "\u001b[K     |████████████████████████████████| 153kB 40.0MB/s \n",
            "\u001b[?25hCollecting pyannote.core\n",
            "\u001b[?25l  Downloading https://files.pythonhosted.org/packages/ba/09/64e64cedccf764be513405d1ff3d3d2bbcbea60d18fb6a6d9e815aedcd79/pyannote.core-4.1-py3-none-any.whl (56kB)\n",
            "\u001b[K     |████████████████████████████████| 61kB 5.2MB/s \n",
            "\u001b[?25hRequirement already satisfied: matplotlib in /usr/local/lib/python3.6/dist-packages (from inaSpeechSegmenter) (3.2.2)\n",
            "Requirement already satisfied: keras in /usr/local/lib/python3.6/dist-packages (from inaSpeechSegmenter) (2.3.1)\n",
            "Collecting pyannote.algorithms\n",
            "\u001b[?25l  Downloading https://files.pythonhosted.org/packages/79/ad/b06f0d85b71f89ef1e4d9f1b941a41c10b230a63cd9ea23d85b3694eefe0/pyannote.algorithms-0.8-py3-none-any.whl (78kB)\n",
            "\u001b[K     |████████████████████████████████| 81kB 8.3MB/s \n",
            "\u001b[?25hCollecting Pyro4\n",
            "\u001b[?25l  Downloading https://files.pythonhosted.org/packages/c3/3c/422f6f761076c5679215178a00eca9a68aacfbbc88152c85b15928b60e25/Pyro4-4.80-py2.py3-none-any.whl (89kB)\n",
            "\u001b[K     |████████████████████████████████| 92kB 8.1MB/s \n",
            "\u001b[?25hCollecting pyannote.parser\n",
            "  Downloading https://files.pythonhosted.org/packages/5f/24/90cf78a16c74c247afb2ddd9dfc04a051e5159440f197439bc5cbf53ca78/pyannote.parser-0.8-py3-none-any.whl\n",
            "Requirement already satisfied: pandas in /usr/local/lib/python3.6/dist-packages (from inaSpeechSegmenter) (1.0.5)\n",
            "Requirement already satisfied: numpy in /usr/local/lib/python3.6/dist-packages (from inaSpeechSegmenter) (1.18.5)\n",
            "Requirement already satisfied: scikit-image in /usr/local/lib/python3.6/dist-packages (from inaSpeechSegmenter) (0.16.2)\n",
            "Collecting mock>=1.0.1\n",
            "  Downloading https://files.pythonhosted.org/packages/cd/74/d72daf8dff5b6566db857cfd088907bb0355f5dd2914c4b3ef065c790735/mock-4.0.2-py3-none-any.whl\n",
            "Collecting nose>=1.3.4\n",
            "\u001b[?25l  Downloading https://files.pythonhosted.org/packages/15/d8/dd071918c040f50fa1cf80da16423af51ff8ce4a0f2399b7bf8de45ac3d9/nose-1.3.7-py3-none-any.whl (154kB)\n",
            "\u001b[K     |████████████████████████████████| 163kB 42.2MB/s \n",
            "\u001b[?25hRequirement already satisfied: pyparsing>=2.0.2 in /usr/local/lib/python3.6/dist-packages (from sidekit->inaSpeechSegmenter) (2.4.7)\n",
            "Requirement already satisfied: python-dateutil>=2.2 in /usr/local/lib/python3.6/dist-packages (from sidekit->inaSpeechSegmenter) (2.8.1)\n",
            "Requirement already satisfied: scipy>=0.12.1 in /usr/local/lib/python3.6/dist-packages (from sidekit->inaSpeechSegmenter) (1.4.1)\n",
            "Requirement already satisfied: six>=1.8.0 in /usr/local/lib/python3.6/dist-packages (from sidekit->inaSpeechSegmenter) (1.12.0)\n",
            "Requirement already satisfied: torch>=1.0 in /usr/local/lib/python3.6/dist-packages (from sidekit->inaSpeechSegmenter) (1.5.1+cu101)\n",
            "Requirement already satisfied: torchvision in /usr/local/lib/python3.6/dist-packages (from sidekit->inaSpeechSegmenter) (0.6.1+cu101)\n",
            "Requirement already satisfied: PyYAML>=3.11 in /usr/local/lib/python3.6/dist-packages (from sidekit->inaSpeechSegmenter) (3.13)\n",
            "Requirement already satisfied: h5py>=2.5.0 in /usr/local/lib/python3.6/dist-packages (from sidekit->inaSpeechSegmenter) (2.10.0)\n",
            "Collecting simplejson>=3.8.1\n",
            "\u001b[?25l  Downloading https://files.pythonhosted.org/packages/73/96/1e6b19045375890068d7342cbe280dd64ae73fd90b9735b5efb8d1e044a1/simplejson-3.17.2-cp36-cp36m-manylinux2010_x86_64.whl (127kB)\n",
            "\u001b[K     |████████████████████████████████| 133kB 43.9MB/s \n",
            "\u001b[?25hRequirement already satisfied: sortedcontainers>=2.0.4 in /usr/local/lib/python3.6/dist-packages (from pyannote.core->inaSpeechSegmenter) (2.2.2)\n",
            "Requirement already satisfied: typing-extensions>=3.7.4.1 in /usr/local/lib/python3.6/dist-packages (from pyannote.core->inaSpeechSegmenter) (3.7.4.2)\n",
            "Requirement already satisfied: dataclasses>=0.7; python_version < \"3.7\" in /usr/local/lib/python3.6/dist-packages (from pyannote.core->inaSpeechSegmenter) (0.7)\n",
            "Requirement already satisfied: kiwisolver>=1.0.1 in /usr/local/lib/python3.6/dist-packages (from matplotlib->inaSpeechSegmenter) (1.2.0)\n",
            "Requirement already satisfied: cycler>=0.10 in /usr/local/lib/python3.6/dist-packages (from matplotlib->inaSpeechSegmenter) (0.10.0)\n",
            "Requirement already satisfied: keras-preprocessing>=1.0.5 in /usr/local/lib/python3.6/dist-packages (from keras->inaSpeechSegmenter) (1.1.2)\n",
            "Requirement already satisfied: keras-applications>=1.0.6 in /usr/local/lib/python3.6/dist-packages (from keras->inaSpeechSegmenter) (1.0.8)\n",
            "Collecting munkres>=1.0.7\n",
            "  Downloading https://files.pythonhosted.org/packages/64/97/61ddc63578870e04db6eb1d3bee58ad4e727f682068a7c7405edb8b2cdeb/munkres-1.1.2-py2.py3-none-any.whl\n",
            "Requirement already satisfied: xarray>=0.8.2 in /usr/local/lib/python3.6/dist-packages (from pyannote.algorithms->inaSpeechSegmenter) (0.15.1)\n",
            "Requirement already satisfied: networkx>=2.1 in /usr/local/lib/python3.6/dist-packages (from pyannote.algorithms->inaSpeechSegmenter) (2.4)\n",
            "Collecting sortedcollections>=1.0.1\n",
            "  Downloading https://files.pythonhosted.org/packages/ea/f1/831fa9763afc85d3065557762824490d6e4d1afe1a56e0f053a568ae0cb5/sortedcollections-1.2.1-py2.py3-none-any.whl\n",
            "Requirement already satisfied: docopt>=0.6.2 in /usr/local/lib/python3.6/dist-packages (from pyannote.algorithms->inaSpeechSegmenter) (0.6.2)\n",
            "Requirement already satisfied: scikit-learn>=0.17 in /usr/local/lib/python3.6/dist-packages (from pyannote.algorithms->inaSpeechSegmenter) (0.22.2.post1)\n",
            "Requirement already satisfied: joblib>=0.9.4 in /usr/local/lib/python3.6/dist-packages (from pyannote.algorithms->inaSpeechSegmenter) (0.16.0)\n",
            "Collecting serpent>=1.27; python_version >= \"3.2\"\n",
            "  Downloading https://files.pythonhosted.org/packages/b4/a1/24871492bfc34ea18aee3bf38e0cee22d8c11d8d5e765ccc921103140747/serpent-1.30.2-py3-none-any.whl\n",
            "Requirement already satisfied: pytz>=2017.2 in /usr/local/lib/python3.6/dist-packages (from pandas->inaSpeechSegmenter) (2018.9)\n",
            "Requirement already satisfied: imageio>=2.3.0 in /usr/local/lib/python3.6/dist-packages (from scikit-image->inaSpeechSegmenter) (2.4.1)\n",
            "Requirement already satisfied: pillow>=4.3.0 in /usr/local/lib/python3.6/dist-packages (from scikit-image->inaSpeechSegmenter) (7.0.0)\n",
            "Requirement already satisfied: PyWavelets>=0.4.0 in /usr/local/lib/python3.6/dist-packages (from scikit-image->inaSpeechSegmenter) (1.1.1)\n",
            "Requirement already satisfied: future in /usr/local/lib/python3.6/dist-packages (from torch>=1.0->sidekit->inaSpeechSegmenter) (0.16.0)\n",
            "Requirement already satisfied: setuptools>=41.2 in /usr/local/lib/python3.6/dist-packages (from xarray>=0.8.2->pyannote.algorithms->inaSpeechSegmenter) (49.1.0)\n",
            "Requirement already satisfied: decorator>=4.3.0 in /usr/local/lib/python3.6/dist-packages (from networkx>=2.1->pyannote.algorithms->inaSpeechSegmenter) (4.4.2)\n",
            "Building wheels for collected packages: sidekit\n",
            "  Building wheel for sidekit (setup.py) ... \u001b[?25l\u001b[?25hdone\n",
            "  Created wheel for sidekit: filename=SIDEKIT-1.3.6.6-cp36-none-any.whl size=186914 sha256=ebee21d02fdd2a0c630204c395b04de09ba5e637abec79cc3ebae201c01ca5f3\n",
            "  Stored in directory: /root/.cache/pip/wheels/85/6f/67/7606ef74d759900d14043cae551e34b3b0a87484ccd1a25a9f\n",
            "Successfully built sidekit\n",
            "Installing collected packages: mock, nose, sidekit, simplejson, pyannote.core, munkres, sortedcollections, pyannote.parser, pyannote.algorithms, serpent, Pyro4, inaSpeechSegmenter\n",
            "Successfully installed Pyro4-4.80 inaSpeechSegmenter-0.6.2 mock-4.0.2 munkres-1.1.2 nose-1.3.7 pyannote.algorithms-0.8 pyannote.core-4.1 pyannote.parser-0.8 serpent-1.30.2 sidekit-1.3.6.6 simplejson-3.17.2 sortedcollections-1.2.1\n"
          ],
          "name": "stdout"
        }
      ]
    },
    {
      "cell_type": "code",
      "metadata": {
        "id": "XTeaqc9_lc79",
        "colab_type": "code",
        "colab": {
          "base_uri": "https://localhost:8080/",
          "height": 93
        },
        "outputId": "fe8d9ca7-0b2e-463a-c217-692a7558760c"
      },
      "source": [
        "# Load the API (Current warning is related to h5py and has no consequences)\n",
        "from inaSpeechSegmenter import Segmenter, seg2csv"
      ],
      "execution_count": null,
      "outputs": [
        {
          "output_type": "stream",
          "text": [
            "Using TensorFlow backend.\n",
            "/usr/local/lib/python3.6/dist-packages/sidekit/bosaris/detplot.py:40: MatplotlibDeprecationWarning: The 'warn' parameter of use() is deprecated since Matplotlib 3.1 and will be removed in 3.3.  If any parameter follows 'warn', they should be pass as keyword, not positionally.\n",
            "  matplotlib.use('PDF', warn=False, force=True)\n"
          ],
          "name": "stderr"
        }
      ]
    },
    {
      "cell_type": "code",
      "metadata": {
        "id": "aUn-_xD-lc8O",
        "colab_type": "code",
        "colab": {}
      },
      "source": [
        "# select a media to analyse\n",
        "# any media supported by ffmpeg may be used (video, audio, urls)\n",
        "media = '/content/drive/My Drive/Vocalbeat/vocalbeatai/output/Anh Nên Yêu Cô Ấy - N Ly _ Lyrics Video-RkkK2Pvv-Es/accompaniment.wav'"
      ],
      "execution_count": null,
      "outputs": []
    },
    {
      "cell_type": "code",
      "metadata": {
        "id": "kWtb5Pxulc9S",
        "colab_type": "code",
        "colab": {
          "base_uri": "https://localhost:8080/",
          "height": 676
        },
        "outputId": "7c8344ee-4ae6-4dbc-d297-4db0930ab74b"
      },
      "source": [
        "# Voice activity done using speech, music and noise model\n",
        "seg = Segmenter(vad_engine='sm',detect_gender=False)\n",
        "segmentation = seg(media)\n",
        "seg2csv(segmentation, 'myseg2.csv')\n",
        "!cat myseg2.csv"
      ],
      "execution_count": null,
      "outputs": [
        {
          "output_type": "stream",
          "text": [
            "/usr/local/lib/python3.6/dist-packages/pyannote/algorithms/utils/viterbi.py:88: FutureWarning: arrays to stack must be passed as a \"sequence\" type such as list or tuple. Support for non-sequence iterables such as generators is deprecated as of NumPy 1.16 and will raise an error in the future.\n",
            "  for e, c in six.moves.zip(emission.T, consecutive)\n",
            "/usr/local/lib/python3.6/dist-packages/pyannote/algorithms/utils/viterbi.py:97: FutureWarning: arrays to stack must be passed as a \"sequence\" type such as list or tuple. Support for non-sequence iterables such as generators is deprecated as of NumPy 1.16 and will raise an error in the future.\n",
            "  for e, c in six.moves.zip(constraint.T, consecutive)\n",
            "/usr/local/lib/python3.6/dist-packages/inaSpeechSegmenter/segmenter.py:60: RuntimeWarning: invalid value encountered in subtract\n",
            "  data = (data - np.mean(data, axis=1).reshape((len(data), 1))) / np.std(data, axis=1).reshape((len(data), 1))\n",
            "/usr/local/lib/python3.6/dist-packages/numpy/core/_methods.py:193: RuntimeWarning: invalid value encountered in subtract\n",
            "  x = asanyarray(arr - arrmean)\n"
          ],
          "name": "stderr"
        },
        {
          "output_type": "stream",
          "text": [
            "labels\tstart\tstop\n",
            "noEnergy\t0.0\t0.9\n",
            "music\t0.9\t2.6\n",
            "noEnergy\t2.6\t4.64\n",
            "music\t4.64\t5.82\n",
            "noEnergy\t5.82\t7.32\n",
            "music\t7.32\t11.76\n",
            "noEnergy\t11.76\t12.540000000000001\n",
            "music\t12.540000000000001\t42.44\n",
            "noEnergy\t42.44\t43.28\n",
            "music\t43.28\t45.52\n",
            "noEnergy\t45.52\t47.04\n",
            "music\t47.04\t49.28\n",
            "noEnergy\t49.28\t50.04\n",
            "music\t50.04\t58.160000000000004\n",
            "noEnergy\t58.160000000000004\t59.04\n",
            "music\t59.04\t273.46\n",
            "noEnergy\t273.46\t274.28000000000003\n",
            "music\t274.28000000000003\t310.42\n",
            "noEnergy\t310.42\t311.18\n",
            "music\t311.18\t311.92\n",
            "noEnergy\t311.92\t316.32\n",
            "music\t316.32\t327.66\n",
            "noEnergy\t327.66\t329.46\n",
            "music\t329.46\t331.40000000000003\n",
            "noEnergy\t331.40000000000003\t337.02\n"
          ],
          "name": "stdout"
        }
      ]
    },
    {
      "cell_type": "code",
      "metadata": {
        "id": "Y_Psj-zdlc9X",
        "colab_type": "code",
        "colab": {
          "base_uri": "https://localhost:8080/",
          "height": 487
        },
        "outputId": "94e3ffc4-58b9-45a4-f00e-5bb59f713395"
      },
      "source": [
        "segmentation"
      ],
      "execution_count": null,
      "outputs": [
        {
          "output_type": "execute_result",
          "data": {
            "text/plain": [
              "[('noEnergy', 0.0, 0.9),\n",
              " ('music', 0.9, 2.6),\n",
              " ('noEnergy', 2.6, 4.64),\n",
              " ('music', 4.64, 5.82),\n",
              " ('noEnergy', 5.82, 7.32),\n",
              " ('music', 7.32, 11.76),\n",
              " ('noEnergy', 11.76, 12.540000000000001),\n",
              " ('music', 12.540000000000001, 42.44),\n",
              " ('noEnergy', 42.44, 43.28),\n",
              " ('music', 43.28, 45.52),\n",
              " ('noEnergy', 45.52, 47.04),\n",
              " ('music', 47.04, 49.28),\n",
              " ('noEnergy', 49.28, 50.04),\n",
              " ('music', 50.04, 58.160000000000004),\n",
              " ('noEnergy', 58.160000000000004, 59.04),\n",
              " ('music', 59.04, 273.46),\n",
              " ('noEnergy', 273.46, 274.28000000000003),\n",
              " ('music', 274.28000000000003, 310.42),\n",
              " ('noEnergy', 310.42, 311.18),\n",
              " ('music', 311.18, 311.92),\n",
              " ('noEnergy', 311.92, 316.32),\n",
              " ('music', 316.32, 327.66),\n",
              " ('noEnergy', 327.66, 329.46),\n",
              " ('music', 329.46, 331.40000000000003),\n",
              " ('noEnergy', 331.40000000000003, 337.02)]"
            ]
          },
          "metadata": {
            "tags": []
          },
          "execution_count": 14
        }
      ]
    },
    {
      "cell_type": "code",
      "metadata": {
        "id": "luc4Q91lXw4h",
        "colab_type": "code",
        "colab": {
          "base_uri": "https://localhost:8080/",
          "height": 111
        },
        "outputId": "7e12c609-b6b7-4083-8365-08ffdeffa31a"
      },
      "source": [
        "[{'start': time[1], 'end':time[2]} for time in segmentation if time[2]-time[1] >7 and time[0]!='noEnergy']"
      ],
      "execution_count": null,
      "outputs": [
        {
          "output_type": "execute_result",
          "data": {
            "text/plain": [
              "[{'end': 42.44, 'start': 12.540000000000001},\n",
              " {'end': 58.160000000000004, 'start': 50.04},\n",
              " {'end': 273.46, 'start': 59.04},\n",
              " {'end': 310.42, 'start': 274.28000000000003},\n",
              " {'end': 327.66, 'start': 316.32}]"
            ]
          },
          "metadata": {
            "tags": []
          },
          "execution_count": 18
        }
      ]
    },
    {
      "cell_type": "code",
      "metadata": {
        "id": "k98k3qyMalCL",
        "colab_type": "code",
        "colab": {}
      },
      "source": [
        ""
      ],
      "execution_count": null,
      "outputs": []
    }
  ]
}